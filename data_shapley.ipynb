{
 "cells": [
  {
   "cell_type": "code",
   "execution_count": 2,
   "metadata": {},
   "outputs": [],
   "source": [
    "import numpy as np\n",
    "import torch as tc\n",
    "import random\n",
    "from torch.utils.data import Dataset, DataLoader\n",
    "import seaborn as sb\n",
    "import pandas as pd\n",
    "#from Classes import *\n",
    "#from functions import *\n",
    "#from Train_Env import *"
   ]
  },
  {
   "cell_type": "code",
   "execution_count": 10,
   "metadata": {},
   "outputs": [
    {
     "name": "stdout",
     "output_type": "stream",
     "text": [
      "net found, loading net\n",
      "0\n",
      "torch.Size([730, 189]) tensor(69202)\n",
      "tensor([0.1542, 0.1815, 0.1177, 0.2576, 0.2087, 0.2672, 0.3862, 0.1728, 0.3228,\n",
      "        0.1879, 0.2468, 0.8860, 0.2072, 1.2284, 0.1508, 0.2659, 0.3922, 0.1988,\n",
      "        0.2284, 0.1723, 0.2420, 0.1599, 0.2243, 0.2796, 0.2315, 0.2224, 0.4246,\n",
      "        0.4568, 0.1934, 0.5742, 0.2629, 0.1607, 0.2416, 0.1440, 0.1606, 0.2686,\n",
      "        0.1231, 0.2314, 0.1734, 0.5795, 0.3258, 0.3078, 0.5122, 0.2958, 0.2097,\n",
      "        0.3962, 0.1619, 0.2655, 0.2894, 0.3591, 0.1383, 0.2722, 0.2265, 0.1338,\n",
      "        0.7590, 0.1372, 0.2136, 0.2014, 0.1778, 0.3146, 0.1459, 0.2144, 0.1694,\n",
      "        0.4542, 0.3819, 0.3576, 0.1942, 0.1690, 0.1921, 0.1357, 0.1726, 0.4052,\n",
      "        0.1720, 0.2315, 0.1682, 0.2405, 0.4103, 0.1682, 0.2151, 0.4077, 0.1773,\n",
      "        0.2339, 0.3101, 0.1429, 0.1108, 0.2444, 0.1582, 0.1434, 0.2160, 0.1389,\n",
      "        0.3579, 0.4297, 0.4288, 0.2887, 0.3606, 0.1067, 0.1758, 0.1941, 0.2213,\n",
      "        0.3655, 0.3258, 0.3216, 0.2151, 0.1972, 0.1868, 0.4641, 0.2170, 0.2215,\n",
      "        0.1699, 0.4809, 0.4651, 0.2088, 0.1530, 0.3036, 0.1535, 0.2398, 0.4181,\n",
      "        0.2612, 0.4136, 0.4800, 0.1845, 0.1269, 0.2058, 0.2112, 0.0871, 0.3941,\n",
      "        0.1880, 0.2502, 0.2659, 0.2764, 0.3747, 0.2743, 0.1199, 0.6468, 0.4849,\n",
      "        0.2435, 0.3545, 0.2837, 0.4579, 0.1741, 0.1782, 0.5127, 0.2593, 0.2683,\n",
      "        0.2085, 0.4743, 0.1863, 0.1195, 0.1665, 0.2834, 0.1974, 0.1453, 0.2684,\n",
      "        0.1751, 0.2196, 0.4104, 0.4893, 0.4399, 0.1331, 0.2738, 0.2259, 0.5042,\n",
      "        0.3175, 0.1331, 0.1544, 0.3905, 0.5378, 0.1986, 0.1861, 0.2671, 0.3085,\n",
      "        0.5602, 0.3908, 0.5831, 0.1294, 0.2653, 0.3516, 0.3014, 0.2580, 0.1701,\n",
      "        0.2172, 0.3486, 0.3095, 0.1880, 0.2267, 0.2448, 0.1576, 0.1055, 0.1360,\n",
      "        0.2303, 0.1420, 0.3991, 0.3056, 0.1112, 0.1741, 0.1073, 0.1705, 0.1879,\n",
      "        0.3867, 0.1938, 0.3211, 0.3000, 0.1536, 0.3943, 0.2503, 0.4562, 0.3956,\n",
      "        0.1446, 0.1854, 0.2506, 0.1908, 0.2262, 0.2868, 0.3456, 0.2500, 0.2188,\n",
      "        0.2330, 0.2790, 0.2041, 0.1588, 0.2861, 0.4905, 0.9086, 0.3433, 0.1058,\n",
      "        0.2819, 0.5854, 0.1075, 0.1757, 0.1795, 0.4082, 0.6312, 0.6422, 0.4216,\n",
      "        0.1344, 0.0967, 0.2634, 0.2490, 0.2820, 0.2410, 0.1477, 0.3314, 0.5308,\n",
      "        0.3230, 0.4179, 0.2038, 0.3079, 0.2833, 0.5211, 0.4166, 0.5152, 0.2480,\n",
      "        0.1399, 0.4833, 0.3228, 0.4709, 0.1696, 0.4763, 0.2830, 0.3363, 0.2129,\n",
      "        0.1237, 0.3148, 0.4640, 0.3435, 0.1223, 0.2560, 0.2379, 0.2546, 0.5034,\n",
      "        0.1640, 0.1846, 0.2451, 0.1803, 0.5632, 0.5807, 0.3525, 0.3463, 0.3247,\n",
      "        0.3588, 0.2218, 0.3080, 0.3293, 0.1602, 0.2522, 0.2053, 0.1777, 0.1883,\n",
      "        0.2558, 0.2954, 0.4446, 0.1427, 0.1118, 0.2267, 0.2580, 0.6778, 0.1838,\n",
      "        0.2913, 0.3769, 0.2945, 0.1477, 0.1506, 0.1714, 0.1496, 0.2804, 0.1793,\n",
      "        0.1689, 0.1587, 0.4046, 0.2640, 0.2269, 0.1197, 0.0792, 0.1685, 0.2431,\n",
      "        0.2376, 0.3943, 0.2082, 0.2882, 0.3054, 0.1697, 0.6538, 0.2089, 0.4949,\n",
      "        0.1946, 0.2753, 0.2057, 0.1709, 0.3561, 0.1777, 0.2548, 0.1881, 0.4168,\n",
      "        0.3601, 0.3662, 0.2457, 0.1453, 0.3339, 0.1452, 0.3096, 0.1854, 0.1601,\n",
      "        0.2572, 0.2348, 0.5462, 0.2553, 0.3780, 0.3475, 0.3271, 0.2170, 0.1212,\n",
      "        0.2595, 0.1714, 0.2363, 0.2324, 0.1754, 0.1912, 0.3014, 0.1083, 0.3951,\n",
      "        0.1904, 0.1611, 0.1993, 0.1305, 0.5457, 0.3345, 0.2814, 0.3837, 0.1300,\n",
      "        0.5456, 0.3413, 0.1755, 0.1543, 0.1563, 0.1924, 0.1834, 0.2769, 0.3805,\n",
      "        0.2040, 0.2160, 0.2131, 0.2368, 0.2172, 0.2511, 0.4527, 0.3520, 0.1457,\n",
      "        0.1143, 0.1457, 0.1905, 0.1519, 0.2187, 0.2422, 0.2006, 0.2194, 0.1662,\n",
      "        0.5053, 0.2975, 0.1569, 0.1535, 0.1530, 0.1086, 0.2280, 0.2183, 0.1456,\n",
      "        0.3725, 0.3804, 0.1758, 0.2292, 0.4069, 0.1401, 0.3999, 0.3731, 0.2352,\n",
      "        0.1223, 0.6687, 0.2997, 0.1500, 0.3031, 0.2377, 0.1625, 0.2539, 0.1370,\n",
      "        0.1585, 0.6711, 1.1271, 0.4756, 0.1658, 0.1839, 0.5162, 0.1853, 0.2970,\n",
      "        0.2338, 0.1524, 0.2585, 0.0970, 0.1815, 0.2593, 0.3884, 0.4064, 0.3183,\n",
      "        0.6117, 0.1561, 0.1927, 0.2322, 0.6175, 0.2361, 0.3205, 0.1801, 0.2248,\n",
      "        0.6124, 0.4804, 0.1669, 0.1446, 0.3474, 0.2554, 0.2693, 0.0928, 0.6590,\n",
      "        0.2371, 0.2759, 0.1856, 0.2844, 0.2767, 0.2227, 0.3852, 0.1738, 0.1902,\n",
      "        0.7988, 0.1162, 0.2656, 0.2558, 0.2452, 0.1441, 0.1343, 0.2616, 0.2539,\n",
      "        0.2197, 0.3067, 0.2528, 0.3495, 0.3071, 0.1718, 0.2872, 0.1744, 0.2166,\n",
      "        0.0972, 0.2119, 0.2303, 0.3608, 0.2274, 0.2021, 0.2418, 0.2094, 0.2050,\n",
      "        0.2806, 0.1321, 0.2850, 0.1908, 0.2457, 0.3663, 0.3173, 0.2050, 0.2514,\n",
      "        0.2800, 0.1747, 0.2212, 0.1721, 0.1713, 0.4332, 0.2107, 0.3407, 0.2763,\n",
      "        0.2493, 0.5105, 0.2440, 0.1430, 0.3913, 0.1996, 0.2121, 0.2831, 0.2557,\n",
      "        0.2377, 0.2206, 0.4150, 0.2213, 0.2210, 0.3851, 0.2754, 0.4536, 0.1933,\n",
      "        0.3147, 0.3262, 0.2819, 0.3793, 0.2159, 0.2768, 0.2435, 0.2850, 0.1561,\n",
      "        0.1693, 0.3385, 0.2841, 0.3295, 0.1639, 0.1616, 0.2096, 0.4337, 0.2588,\n",
      "        0.2412, 0.4903, 0.1685, 0.2556, 0.2401, 0.1857, 0.2684, 0.1284, 0.2292,\n",
      "        0.2095, 0.2361, 0.1093, 0.1129, 0.1683, 0.1913, 0.3241, 0.1224, 0.1465,\n",
      "        0.2709, 0.1664, 0.2443, 0.2170, 0.1282, 0.1797, 0.3012, 0.1919, 0.2803,\n",
      "        0.1292, 0.1039, 0.3087, 0.4746, 0.1421, 0.1577, 0.1613, 0.1721, 0.1253,\n",
      "        0.2876, 0.1806, 0.1684, 0.3568, 0.2039, 0.1205, 0.2229, 0.1889, 0.1728,\n",
      "        0.2419, 0.2387, 0.2502, 0.3400, 0.4540, 0.4409, 0.1544, 0.3071, 0.1914,\n",
      "        0.4072, 0.1875, 0.2177, 0.4455, 0.2414, 0.5779, 0.1616, 0.1856, 0.2917,\n",
      "        0.4956, 0.3340, 0.2757, 0.2020, 0.3985, 0.0799, 0.3755, 0.2595, 0.2793,\n",
      "        0.4673, 0.2594, 0.2160, 0.1617, 0.1552, 0.3130, 0.2213, 0.2042, 0.2445,\n",
      "        0.1166, 0.3224, 0.1782, 0.1878, 0.3246, 0.3715, 0.2338, 0.1562, 0.2512,\n",
      "        0.6185, 0.2356, 0.1625, 0.1856, 0.1996, 0.2785, 0.2104, 0.4504, 0.3273,\n",
      "        0.2113, 0.1521, 0.2279, 0.4468, 0.3959, 0.2145, 0.2268, 0.2400, 0.1839,\n",
      "        0.3760, 0.3187, 0.2059, 0.7000, 0.3043, 0.4119, 0.2599, 0.9141, 0.4442,\n",
      "        0.2128, 0.4831, 0.1918, 0.2359, 0.1869, 0.2349, 0.2101, 0.2249, 0.2737,\n",
      "        0.2119, 0.4104, 0.2055, 0.4105, 0.3278, 0.3336, 0.1851, 0.3541, 0.3158,\n",
      "        0.3363, 0.1856, 0.2627, 0.3601, 0.2198, 0.3394, 0.3559, 0.2445, 0.1603,\n",
      "        0.1958, 0.2863, 0.2382, 0.3164, 0.2597, 0.2023, 0.9287, 0.2271, 0.2927,\n",
      "        0.2666, 0.1831, 0.1110, 0.2044, 0.3921, 0.4388, 0.3343, 0.3924, 0.1803,\n",
      "        0.2836, 0.2651, 0.4843, 0.2234, 0.3000, 0.1676, 0.3252, 0.1353, 0.2554,\n",
      "        0.1542, 0.2196, 0.2685, 0.4152, 0.1585, 0.1515, 0.2945, 0.1181, 0.3235,\n",
      "        0.2758], grad_fn=<MeanBackward1>)\n",
      "[tensor([[0.5472],\n",
      "        [0.5452],\n",
      "        [0.5467],\n",
      "        [0.5496],\n",
      "        [0.5458]])]\n"
     ]
    },
    {
     "data": {
      "image/png": "[encoded data removed]",
      "text/plain": [
       "<Figure size 432x288 with 1 Axes>"
      ]
     },
     "metadata": {
      "needs_background": "light"
     },
     "output_type": "display_data"
    },
    {
     "ename": "KeyboardInterrupt",
     "evalue": "",
     "output_type": "error",
     "traceback": [
      "\u001b[0;31m---------------------------------------------------------------------------\u001b[0m",
      "\u001b[0;31mKeyboardInterrupt\u001b[0m                         Traceback (most recent call last)",
      "\u001b[0;32m<ipython-input-10-25fbd51231fb>\u001b[0m in \u001b[0;36m<module>\u001b[0;34m\u001b[0m\n\u001b[1;32m     14\u001b[0m \u001b[0;34m\u001b[0m\u001b[0m\n\u001b[1;32m     15\u001b[0m \u001b[0mtrain_env\u001b[0m \u001b[0;34m=\u001b[0m \u001b[0mTrain_env\u001b[0m\u001b[0;34m(\u001b[0m\u001b[0mdata\u001b[0m\u001b[0;34m,\u001b[0m \u001b[0mload_model\u001b[0m\u001b[0;34m=\u001b[0m\u001b[0;32mTrue\u001b[0m\u001b[0;34m)\u001b[0m  \u001b[0;31m# specify network\u001b[0m\u001b[0;34m\u001b[0m\u001b[0;34m\u001b[0m\u001b[0m\n\u001b[0;32m---> 16\u001b[0;31m \u001b[0mtrain_env\u001b[0m\u001b[0;34m.\u001b[0m\u001b[0mtrain_network\u001b[0m\u001b[0;34m(\u001b[0m\u001b[0mwidth\u001b[0m\u001b[0;34m,\u001b[0m \u001b[0msample_width\u001b[0m\u001b[0;34m,\u001b[0m \u001b[0mdepth\u001b[0m\u001b[0;34m,\u001b[0m \u001b[0mvariational\u001b[0m\u001b[0;34m,\u001b[0m \u001b[0mtrain_dist\u001b[0m\u001b[0;34m,\u001b[0m \u001b[0mtest_dist\u001b[0m\u001b[0;34m,\u001b[0m \u001b[0mn_epochs\u001b[0m\u001b[0;34m=\u001b[0m\u001b[0mn_epochs\u001b[0m\u001b[0;34m,\u001b[0m \u001b[0mtest_every\u001b[0m\u001b[0;34m=\u001b[0m\u001b[0mtest_every\u001b[0m\u001b[0;34m)\u001b[0m \u001b[0;31m# specify training and test\u001b[0m\u001b[0;34m\u001b[0m\u001b[0;34m\u001b[0m\u001b[0m\n\u001b[0m",
      "\u001b[0;32m~/PycharmProjects/Proteomics/TCPA-Imputation/Train_Env.py\u001b[0m in \u001b[0;36mtrain_network\u001b[0;34m(self, width, sample_width, depth, variational, train_dist, test_dist, lr, n_epochs, test_every, trainbool, test_repeats)\u001b[0m\n\u001b[1;32m     38\u001b[0m                 \u001b[0mplot_results\u001b[0m\u001b[0;34m(\u001b[0m\u001b[0mself\u001b[0m\u001b[0;34m.\u001b[0m\u001b[0mtest_result\u001b[0m\u001b[0;34m)\u001b[0m\u001b[0;34m\u001b[0m\u001b[0;34m\u001b[0m\u001b[0m\n\u001b[1;32m     39\u001b[0m             \u001b[0;32mif\u001b[0m \u001b[0mtrainbool\u001b[0m\u001b[0;34m:\u001b[0m\u001b[0;34m\u001b[0m\u001b[0;34m\u001b[0m\u001b[0m\n\u001b[0;32m---> 40\u001b[0;31m                 \u001b[0mself\u001b[0m\u001b[0;34m.\u001b[0m\u001b[0mtrain_it\u001b[0m\u001b[0;34m(\u001b[0m\u001b[0mlr\u001b[0m\u001b[0;34m)\u001b[0m\u001b[0;34m\u001b[0m\u001b[0;34m\u001b[0m\u001b[0m\n\u001b[0m\u001b[1;32m     41\u001b[0m                 \u001b[0mtorch\u001b[0m\u001b[0;34m.\u001b[0m\u001b[0msave\u001b[0m\u001b[0;34m(\u001b[0m\u001b[0mself\u001b[0m\u001b[0;34m.\u001b[0m\u001b[0mnet\u001b[0m\u001b[0;34m,\u001b[0m \u001b[0;34m'recursive_net.pt'\u001b[0m\u001b[0;34m)\u001b[0m\u001b[0;34m\u001b[0m\u001b[0;34m\u001b[0m\u001b[0m\n\u001b[1;32m     42\u001b[0m \u001b[0;34m\u001b[0m\u001b[0m\n",
      "\u001b[0;32m~/PycharmProjects/Proteomics/TCPA-Imputation/Train_Env.py\u001b[0m in \u001b[0;36mtrain_it\u001b[0;34m(self, lr)\u001b[0m\n\u001b[1;32m     63\u001b[0m             \u001b[0;32melse\u001b[0m\u001b[0;34m:\u001b[0m \u001b[0mkl\u001b[0m\u001b[0;34m=\u001b[0m\u001b[0;36m0\u001b[0m\u001b[0;34m\u001b[0m\u001b[0;34m\u001b[0m\u001b[0m\n\u001b[1;32m     64\u001b[0m             \u001b[0mloss\u001b[0m \u001b[0;34m=\u001b[0m \u001b[0mcriterion\u001b[0m\u001b[0;34m(\u001b[0m\u001b[0mprediction\u001b[0m\u001b[0;34m,\u001b[0m \u001b[0mtrain_target\u001b[0m\u001b[0;34m)\u001b[0m \u001b[0;34m+\u001b[0m \u001b[0mkl\u001b[0m\u001b[0;34m\u001b[0m\u001b[0;34m\u001b[0m\u001b[0m\n\u001b[0;32m---> 65\u001b[0;31m             \u001b[0mloss\u001b[0m\u001b[0;34m.\u001b[0m\u001b[0mbackward\u001b[0m\u001b[0;34m(\u001b[0m\u001b[0;34m)\u001b[0m\u001b[0;34m\u001b[0m\u001b[0;34m\u001b[0m\u001b[0m\n\u001b[0m\u001b[1;32m     66\u001b[0m             \u001b[0moptimizer\u001b[0m\u001b[0;34m.\u001b[0m\u001b[0mstep\u001b[0m\u001b[0;34m(\u001b[0m\u001b[0;34m)\u001b[0m\u001b[0;34m\u001b[0m\u001b[0;34m\u001b[0m\u001b[0m\n\u001b[1;32m     67\u001b[0m \u001b[0;34m\u001b[0m\u001b[0m\n",
      "\u001b[0;32m~/.local/lib/python3.6/site-packages/torch/tensor.py\u001b[0m in \u001b[0;36mbackward\u001b[0;34m(self, gradient, retain_graph, create_graph)\u001b[0m\n\u001b[1;32m    183\u001b[0m                 \u001b[0mproducts\u001b[0m\u001b[0;34m.\u001b[0m \u001b[0mDefaults\u001b[0m \u001b[0mto\u001b[0m\u001b[0;31m \u001b[0m\u001b[0;31m`\u001b[0m\u001b[0;31m`\u001b[0m\u001b[0;32mFalse\u001b[0m\u001b[0;31m`\u001b[0m\u001b[0;31m`\u001b[0m\u001b[0;34m.\u001b[0m\u001b[0;34m\u001b[0m\u001b[0;34m\u001b[0m\u001b[0m\n\u001b[1;32m    184\u001b[0m         \"\"\"\n\u001b[0;32m--> 185\u001b[0;31m         \u001b[0mtorch\u001b[0m\u001b[0;34m.\u001b[0m\u001b[0mautograd\u001b[0m\u001b[0;34m.\u001b[0m\u001b[0mbackward\u001b[0m\u001b[0;34m(\u001b[0m\u001b[0mself\u001b[0m\u001b[0;34m,\u001b[0m \u001b[0mgradient\u001b[0m\u001b[0;34m,\u001b[0m \u001b[0mretain_graph\u001b[0m\u001b[0;34m,\u001b[0m \u001b[0mcreate_graph\u001b[0m\u001b[0;34m)\u001b[0m\u001b[0;34m\u001b[0m\u001b[0;34m\u001b[0m\u001b[0m\n\u001b[0m\u001b[1;32m    186\u001b[0m \u001b[0;34m\u001b[0m\u001b[0m\n\u001b[1;32m    187\u001b[0m     \u001b[0;32mdef\u001b[0m \u001b[0mregister_hook\u001b[0m\u001b[0;34m(\u001b[0m\u001b[0mself\u001b[0m\u001b[0;34m,\u001b[0m \u001b[0mhook\u001b[0m\u001b[0;34m)\u001b[0m\u001b[0;34m:\u001b[0m\u001b[0;34m\u001b[0m\u001b[0;34m\u001b[0m\u001b[0m\n",
      "\u001b[0;32m~/.local/lib/python3.6/site-packages/torch/autograd/__init__.py\u001b[0m in \u001b[0;36mbackward\u001b[0;34m(tensors, grad_tensors, retain_graph, create_graph, grad_variables)\u001b[0m\n\u001b[1;32m    125\u001b[0m     Variable._execution_engine.run_backward(\n\u001b[1;32m    126\u001b[0m         \u001b[0mtensors\u001b[0m\u001b[0;34m,\u001b[0m \u001b[0mgrad_tensors\u001b[0m\u001b[0;34m,\u001b[0m \u001b[0mretain_graph\u001b[0m\u001b[0;34m,\u001b[0m \u001b[0mcreate_graph\u001b[0m\u001b[0;34m,\u001b[0m\u001b[0;34m\u001b[0m\u001b[0;34m\u001b[0m\u001b[0m\n\u001b[0;32m--> 127\u001b[0;31m         allow_unreachable=True)  # allow_unreachable flag\n\u001b[0m\u001b[1;32m    128\u001b[0m \u001b[0;34m\u001b[0m\u001b[0m\n\u001b[1;32m    129\u001b[0m \u001b[0;34m\u001b[0m\u001b[0m\n",
      "\u001b[0;31mKeyboardInterrupt\u001b[0m: "
     ]
    }
   ],
   "source": [
    "data_with_names = pd.read_csv('../data2/TCPA_data_sel.csv')\n",
    "ID, data = data_with_names.iloc[:,:2], tc.tensor(data_with_names.iloc[:,2:].values)\n",
    "\n",
    "train_dist = ((0.1,0.9))\n",
    "test_dist = (0.50)\n",
    "activations = [nn.ReLU()]\n",
    "n_epochs = 30\n",
    "test_every = 5\n",
    "width =40\n",
    "depth= 4\n",
    "variational = True\n",
    "lr = 0.0001\n",
    "sample_width = 1024\n",
    "\n",
    "train_env = Train_env(data, load_model=True)  # specify network\n",
    "train_env.train_network(width, sample_width, depth, variational, train_dist, test_dist, n_epochs=n_epochs, test_every=test_every) # specify training and test"
   ]
  },
  {
   "cell_type": "code",
   "execution_count": null,
   "metadata": {},
   "outputs": [],
   "source": []
  },
  {
   "cell_type": "code",
   "execution_count": null,
   "metadata": {},
   "outputs": [],
   "source": []
  },
  {
   "cell_type": "code",
   "execution_count": null,
   "metadata": {},
   "outputs": [],
   "source": []
  },
  {
   "cell_type": "code",
   "execution_count": null,
   "metadata": {},
   "outputs": [],
   "source": []
  },
  {
   "cell_type": "code",
   "execution_count": null,
   "metadata": {},
   "outputs": [],
   "source": []
  },
  {
   "cell_type": "code",
   "execution_count": null,
   "metadata": {},
   "outputs": [],
   "source": []
  },
  {
   "cell_type": "code",
   "execution_count": null,
   "metadata": {},
   "outputs": [],
   "source": []
  },
  {
   "cell_type": "code",
   "execution_count": null,
   "metadata": {},
   "outputs": [],
   "source": []
  },
  {
   "cell_type": "code",
   "execution_count": null,
   "metadata": {},
   "outputs": [],
   "source": []
  },
  {
   "cell_type": "code",
   "execution_count": null,
   "metadata": {},
   "outputs": [],
   "source": []
  },
  {
   "cell_type": "code",
   "execution_count": 5,
   "metadata": {},
   "outputs": [],
   "source": [
    "class Normaldataset(Dataset):\n",
    "    def __init__(self, data):\n",
    "        self.data = data\n",
    " \n",
    "    def __len__(self):\n",
    "        return self.data.shape[0]\n",
    "\n",
    "    def __getitem__(self, i):\n",
    "        return self.data[i, :].float()\n",
    "    \n",
    "\n",
    "class Mask_n():\n",
    "    def __init__(self, data, batchsize):\n",
    "        self.dataset = Normaldataset(data)\n",
    "        self.nsamples, self.nfeatures = data.shape\n",
    "        self.batchsize = batchsize\n",
    "        self.dataloader = DataLoader(self.dataset, batchsize, shuffle=False)\n",
    "        self.mask = [tc.tensor(np.random.permutation(self.nfeatures)) for _ in range(self.batchsize)]\n",
    "        self.seed = random.random()\n",
    "        \n",
    "    def get_nmasked(self, n): # müsste get_n_unmasked heißen......\n",
    "        n = self.nfeatures-n # einmal umgedreht\n",
    "        batch = next(iter(self.dataloader))\n",
    "        masked_data, target_data = batch.clone(), batch.clone()\n",
    "        for i in range(self.batchsize):\n",
    "            masked_data[i][self.mask[i][:n]] = float('nan')\n",
    "        \n",
    "        last_mask = [mask[-1] for mask in self.mask]\n",
    "        \n",
    "        return masked_data.float(), target_data.float(), last_mask\n",
    "    \n",
    "mask_n = Mask_n(data, 10)\n",
    "ind = mask_n.get_nmasked(5)[2]\n"
   ]
  },
  {
   "cell_type": "code",
   "execution_count": 12,
   "metadata": {},
   "outputs": [
    {
     "data": {
      "text/plain": [
       "torch.Size([10, 189])"
      ]
     },
     "execution_count": 12,
     "metadata": {},
     "output_type": "execute_result"
    }
   ],
   "source": [
    "m = mask_n.get_nmasked(180)\n",
    "m[0].shape"
   ]
  },
  {
   "cell_type": "code",
   "execution_count": 428,
   "metadata": {},
   "outputs": [],
   "source": [
    "'''\n",
    "###batched\n",
    "class MCShapley:\n",
    "    def __init__(data, net, truncation):\n",
    "        self.data = data\n",
    "        self.nsamples, self.nfeatures = data.shape\n",
    "        self.net = net\n",
    "        self.truncation = truncation\n",
    "        self.criterion = F.mse_loss\n",
    "        \n",
    "        self.phi = tc.zeros(self.nfeatures, self.n_features)        \n",
    "    \n",
    "    def step(t):\n",
    "        mask_n = Mask_n(self.data, batch_size=10)\n",
    "        jmasked,target,last_mask = mask.get_nmasked(0)\n",
    "        v_j = self.criterion(net(jmasked), target, reduction='none') \n",
    "        \n",
    "        self.v_all = self.net(mask.get_nmasked(self.nfeatures))\n",
    "        for j in range(1,self.nfeatures):\n",
    "            jmasked, target, last_mask = mask.get_nmasked(j)\n",
    "            v_j_new = self.criterion(self.net(jmasked), target, reduction='none')\n",
    "            for i in range(batch_size):\n",
    "                phi[last_mask[i],:] = (t-1)/t * phi[last_mask[i],:] + 1/t*(v_j_new[i,:]-v_j[i,:])    \n",
    "'''  \n",
    "                \n",
    "###not batched\n",
    "class MCShapley:\n",
    "    def __init__(self, data, net, truncation=0.0001):\n",
    "        self.data = data\n",
    "        self.nsamples, self.nfeatures = data.shape\n",
    "        self.net = net\n",
    "        self.truncation = truncation\n",
    "        self.criterion = F.mse_loss\n",
    "        self.t = tc.tensor([0.0]).to(device)\n",
    "        self.phi = tc.zeros(self.nfeatures, self.nfeatures).to(device)      \n",
    "        print(self.phi)\n",
    "    \n",
    "    def step(self):\n",
    "        self.t+=1\n",
    "        mask_n = Mask_n(self.data, batchsize=1)\n",
    "        jmasked,target,last_mask = mask_n.get_nmasked(0)\n",
    "        jmasked, target = jmasked.to(device), target.to(device)\n",
    "\n",
    "        full_set = mask_n.get_nmasked(self.nfeatures)[0].cuda()\n",
    "        \n",
    "        v_j = self.criterion(self.net(jmasked), target, reduction='none') \n",
    "        v_all = self.net(full_set)\n",
    "        if abs(v_all-v_j)<self.truncation:\n",
    "            continue\n",
    "            \n",
    "        for j in range(1,self.nfeatures):\n",
    "            jmasked, target, last_mask = mask_n.get_nmasked(j)\n",
    "            jmasked, target= jmasked.to(device), target.to(device)\n",
    "            \n",
    "            v_j_new = self.criterion(self.net(jmasked), target, reduction='none')\n",
    "            self.phi[last_mask,:] = (self.t-1)/self.t * self.phi[last_mask,:] + 1/self.t*(v_j_new-v_j)\n",
    "            v_j = v_j_new\n",
    "\n"
   ]
  },
  {
   "cell_type": "code",
   "execution_count": 21,
   "metadata": {},
   "outputs": [
    {
     "ename": "NameError",
     "evalue": "name 'Train_env' is not defined",
     "output_type": "error",
     "traceback": [
      "\u001b[0;31m---------------------------------------------------------------------------\u001b[0m",
      "\u001b[0;31mNameError\u001b[0m                                 Traceback (most recent call last)",
      "\u001b[0;32m<ipython-input-21-9c25be1de060>\u001b[0m in \u001b[0;36m<module>\u001b[0;34m\u001b[0m\n\u001b[1;32m      1\u001b[0m \u001b[0mdevice\u001b[0m \u001b[0;34m=\u001b[0m \u001b[0mtc\u001b[0m\u001b[0;34m.\u001b[0m\u001b[0mdevice\u001b[0m\u001b[0;34m(\u001b[0m\u001b[0;34m\"cpu\"\u001b[0m\u001b[0;34m)\u001b[0m\u001b[0;34m\u001b[0m\u001b[0;34m\u001b[0m\u001b[0m\n\u001b[0;32m----> 2\u001b[0;31m \u001b[0mtrain_env\u001b[0m \u001b[0;34m=\u001b[0m \u001b[0mTrain_env\u001b[0m\u001b[0;34m(\u001b[0m\u001b[0mdata\u001b[0m\u001b[0;34m,\u001b[0m \u001b[0mload_model\u001b[0m\u001b[0;34m=\u001b[0m\u001b[0;32mTrue\u001b[0m\u001b[0;34m)\u001b[0m  \u001b[0;31m# specify network\u001b[0m\u001b[0;34m\u001b[0m\u001b[0;34m\u001b[0m\u001b[0m\n\u001b[0m\u001b[1;32m      3\u001b[0m \u001b[0;31m#train_env.train_network(width, depth, variational, train_dist, test_dist, n_epochs=n_epochs, test_every=test_every) # specify training and test\u001b[0m\u001b[0;34m\u001b[0m\u001b[0;34m\u001b[0m\u001b[0;34m\u001b[0m\u001b[0m\n\u001b[1;32m      4\u001b[0m \u001b[0mnet\u001b[0m \u001b[0;34m=\u001b[0m \u001b[0mtrain_env\u001b[0m\u001b[0;34m.\u001b[0m\u001b[0mnet\u001b[0m\u001b[0;34m.\u001b[0m\u001b[0mcuda\u001b[0m\u001b[0;34m(\u001b[0m\u001b[0;34m)\u001b[0m\u001b[0;34m.\u001b[0m\u001b[0meval\u001b[0m\u001b[0;34m(\u001b[0m\u001b[0;34m)\u001b[0m\u001b[0;34m\u001b[0m\u001b[0;34m\u001b[0m\u001b[0m\n\u001b[1;32m      5\u001b[0m \u001b[0mnet\u001b[0m\u001b[0;34m.\u001b[0m\u001b[0mSHAP\u001b[0m\u001b[0;34m=\u001b[0m\u001b[0;32mTrue\u001b[0m\u001b[0;34m\u001b[0m\u001b[0;34m\u001b[0m\u001b[0m\n",
      "\u001b[0;31mNameError\u001b[0m: name 'Train_env' is not defined"
     ]
    }
   ],
   "source": [
    "device = tc.device(\"cpu\")\n",
    "train_env = Train_env(data, load_model=True)  # specify network\n",
    "#train_env.train_network(width, depth, variational, train_dist, test_dist, n_epochs=n_epochs, test_every=test_every) # specify training and test\n",
    "net = train_env.net.cuda().eval()\n",
    "net.SHAP=True\n",
    "mcshapley = MCShapley(data,net,truncation = 0.001)\n",
    "for epoch in range(1000):\n",
    "    mcshapley.step()\n"
   ]
  },
  {
   "cell_type": "code",
   "execution_count": 22,
   "metadata": {},
   "outputs": [],
   "source": [
    "# def masker\n",
    "# set p, set q\n",
    "# sample a vector S (selection)\n",
    "# set X to random values where not S (scramble all rows of X where not S)\n",
    "# return with masked p\n",
    "# return without masked p\n",
    "\n",
    "# PQmat = empty_matrix\n",
    "# for p, q in len(dims)\n",
    "\n",
    "    # diffs = []\n",
    "    # while not converged ()\n",
    "        # load batch\n",
    "        # run masker(p, q)\n",
    "        # validate model (later: 3 fold)\n",
    "        # diffs.append(difference(loss(with p), loss(without p)))\n",
    "        # check convergence difference(mean(diffs-t1), mean(diffs-t0)) < epsilon"
   ]
  },
  {
   "cell_type": "code",
   "execution_count": 11,
   "metadata": {},
   "outputs": [],
   "source": [
    "#notes\n",
    "# require mask (mask hides values)\n",
    "# require X is n x d\n",
    "\n",
    "# get range e.g. r = np.arange(d)\n",
    "# repeat r (n)-times e.g. R = np.repeat\n",
    "# np.shuffle(R)\n",
    "# Xperm = X[R]\n",
    "# select where X[~mask] Xperm[mask], e.g. numpy.where\n"
   ]
  },
  {
   "cell_type": "code",
   "execution_count": 1,
   "metadata": {},
   "outputs": [
    {
     "name": "stdout",
     "output_type": "stream",
     "text": [
      "recursivenet found, loading net\n"
     ]
    }
   ],
   "source": [
    "import torch as tc\n",
    "device = tc.device('cpu')\n",
    "import torch.nn as nn\n",
    "import BoostNet\n",
    "import RecursiveNet\n",
    "import torch.nn.functional as F\n",
    "from torch.utils.data import DataLoader, Dataset\n",
    "import os\n",
    "import pandas as pd\n",
    "\n",
    "data_with_names = pd.read_csv('../data2/TCPA_data_sel.csv')\n",
    "ID, data = data_with_names.iloc[:,:2], tc.tensor(data_with_names.iloc[:,2:].values)\n",
    "\n",
    "\n",
    "train_dist = ((0.1,0.9))\n",
    "test_dist = (0.50)\n",
    "activations = [nn.ReLU()]\n",
    "n_epochs = 1\n",
    "test_every = 1\n",
    "width =20\n",
    "sample_width = 10\n",
    "depth= 5\n",
    "variational = True\n",
    "lr = 0.0001\n",
    "repeats = 8\n",
    "#make training environment\n",
    "train_env = RecursiveNet.Train_env(data, load_model=True, device=device) #use either BoostNet or RecursiveNet\n",
    "# specify and train network\n",
    "#train_env.train_network(width, sample_width, depth, variational, train_dist, test_dist, lr=lr, n_epochs=n_epochs, test_every=test_every, repeats = repeats) # specify training and test\n"
   ]
  },
  {
   "cell_type": "code",
   "execution_count": 2,
   "metadata": {},
   "outputs": [],
   "source": [
    "class ShapleySet(Dataset):\n",
    "    def __init__(self,data, p, q):\n",
    "        self.data = data.float()\n",
    "        self.nsamples, self.nfeatures = data.shape\n",
    "        self.R = self.init_randomsample()\n",
    "        self.p = p\n",
    "        self.q = q\n",
    "        self.Set, self.Setp = None, None\n",
    "        self.getSets()\n",
    "        \n",
    "    def init_randomsample(self):\n",
    "        tensor_list = [self.data[tc.randperm(self.nsamples),i] for i in range(self.nfeatures)]\n",
    "        return tc.stack(tensor_list).t()\n",
    "\n",
    "    def getSets(self):\n",
    "        self.Set = tc.distributions.bernoulli.Bernoulli(tc.tensor([0.5]*self.nfeatures)).sample()\n",
    "        self.Set[self.q] = 0 # muss das sein\n",
    "        self.Setp = self.Set.clone()\n",
    "        self.Set[self.p], self.Setp[self.p] = 0,1\n",
    "    \n",
    "    def __len__(self):\n",
    "        return self.nsamples\n",
    "    \n",
    "    def __getitem__(self, idx):\n",
    "        assert self.Set is not None, ('did not sample')\n",
    "        target = self.data[idx,:]\n",
    "        random_values = self.R[idx,:]\n",
    "        \n",
    "        masked_data = tc.where(self.Set==1, target, random_values)\n",
    "        masked_dataP = tc.where(self.Setp==1, target, random_values)\n",
    "\n",
    "        return target, masked_data, self.Set, masked_dataP, self.Setp"
   ]
  },
  {
   "cell_type": "code",
   "execution_count": 12,
   "metadata": {},
   "outputs": [],
   "source": [
    "class Shapley():\n",
    "    def __init__(self, data, net):\n",
    "        self.data = data\n",
    "        self.nsamples, self.nfeatures = data.shape\n",
    "        self.net = net\n",
    "        self.shapleyvalues = tc.zeros(self.nsamples, self.nfeatures)\n",
    "        \n",
    "    def calc_shapleypq(self, p, q, steps = 1000):\n",
    "        self.shapleyset = ShapleySet(self.data,p,q)\n",
    "        self.shapleyloader = DataLoader(self.shapleyset, batch_size = 50) #self.nsamples)\n",
    "        meandiff = tc.zeros(1)\n",
    "        criterion= F.mse_loss\n",
    "        proceed = True\n",
    "        \n",
    "        for t in range(1, 20):\n",
    "            for target, masked_data, Set, masked_dataP, SetP in self.shapleyloader:\n",
    "                target, masked_data, Set, masked_dataP, SetP = target.to(device), masked_data.to(device), Set.to(device), masked_dataP.to(device), SetP.to(device)\n",
    "                pred, predP = self.net(masked_data, Set), self.net(masked_dataP, SetP)\n",
    "                loss, lossP = criterion(pred, target), criterion(predP, target)\n",
    "\n",
    "                meanloss, meanlossP = loss.to(device), lossP.to(device)\n",
    "                meandiff = (t-1)/t * meandiff + 1/t * (meanloss - meanlossP)\n",
    "            self.shapleyvalues[p,q] = meandiff\n",
    "            print(p,q,meandiff)\n",
    "            \n",
    "    def calc_shapleyAll(self):\n",
    "        for p in range(self.nfeatures):\n",
    "            for q in range(self.nfeatures):\n",
    "                self.calc_shapleypq(p,q)\n",
    "        \n",
    "    "
   ]
  },
  {
   "cell_type": "code",
   "execution_count": 13,
   "metadata": {},
   "outputs": [],
   "source": [
    "shapleyset=ShapleySet(data, 1,1)"
   ]
  },
  {
   "cell_type": "code",
   "execution_count": 14,
   "metadata": {},
   "outputs": [],
   "source": [
    "shapley = Shapley(data, train_env.net)"
   ]
  },
  {
   "cell_type": "code",
   "execution_count": 15,
   "metadata": {},
   "outputs": [
    {
     "name": "stdout",
     "output_type": "stream",
     "text": [
      "1 1 tensor([0.0054], grad_fn=<AddBackward0>)\n",
      "1 1 tensor([0.0009], grad_fn=<AddBackward0>)\n",
      "1 1 tensor([-0.0027], grad_fn=<AddBackward0>)\n",
      "1 1 tensor([-0.0001], grad_fn=<AddBackward0>)\n",
      "1 1 tensor([0.0031], grad_fn=<AddBackward0>)\n"
     ]
    },
    {
     "ename": "KeyboardInterrupt",
     "evalue": "",
     "output_type": "error",
     "traceback": [
      "\u001b[0;31m---------------------------------------------------------------------------\u001b[0m",
      "\u001b[0;31mKeyboardInterrupt\u001b[0m                         Traceback (most recent call last)",
      "\u001b[0;32m<ipython-input-15-70855378114b>\u001b[0m in \u001b[0;36m<module>\u001b[0;34m\u001b[0m\n\u001b[0;32m----> 1\u001b[0;31m \u001b[0mshapley\u001b[0m\u001b[0;34m.\u001b[0m\u001b[0mcalc_shapleypq\u001b[0m\u001b[0;34m(\u001b[0m\u001b[0;36m1\u001b[0m\u001b[0;34m,\u001b[0m\u001b[0;36m1\u001b[0m\u001b[0;34m)\u001b[0m\u001b[0;34m\u001b[0m\u001b[0;34m\u001b[0m\u001b[0m\n\u001b[0m",
      "\u001b[0;32m<ipython-input-12-0e21f648c0fd>\u001b[0m in \u001b[0;36mcalc_shapleypq\u001b[0;34m(self, p, q, steps)\u001b[0m\n\u001b[1;32m     16\u001b[0m             \u001b[0;32mfor\u001b[0m \u001b[0mtarget\u001b[0m\u001b[0;34m,\u001b[0m \u001b[0mmasked_data\u001b[0m\u001b[0;34m,\u001b[0m \u001b[0mSet\u001b[0m\u001b[0;34m,\u001b[0m \u001b[0mmasked_dataP\u001b[0m\u001b[0;34m,\u001b[0m \u001b[0mSetP\u001b[0m \u001b[0;32min\u001b[0m \u001b[0mself\u001b[0m\u001b[0;34m.\u001b[0m\u001b[0mshapleyloader\u001b[0m\u001b[0;34m:\u001b[0m\u001b[0;34m\u001b[0m\u001b[0;34m\u001b[0m\u001b[0m\n\u001b[1;32m     17\u001b[0m                 \u001b[0mtarget\u001b[0m\u001b[0;34m,\u001b[0m \u001b[0mmasked_data\u001b[0m\u001b[0;34m,\u001b[0m \u001b[0mSet\u001b[0m\u001b[0;34m,\u001b[0m \u001b[0mmasked_dataP\u001b[0m\u001b[0;34m,\u001b[0m \u001b[0mSetP\u001b[0m \u001b[0;34m=\u001b[0m \u001b[0mtarget\u001b[0m\u001b[0;34m.\u001b[0m\u001b[0mto\u001b[0m\u001b[0;34m(\u001b[0m\u001b[0mdevice\u001b[0m\u001b[0;34m)\u001b[0m\u001b[0;34m,\u001b[0m \u001b[0mmasked_data\u001b[0m\u001b[0;34m.\u001b[0m\u001b[0mto\u001b[0m\u001b[0;34m(\u001b[0m\u001b[0mdevice\u001b[0m\u001b[0;34m)\u001b[0m\u001b[0;34m,\u001b[0m \u001b[0mSet\u001b[0m\u001b[0;34m.\u001b[0m\u001b[0mto\u001b[0m\u001b[0;34m(\u001b[0m\u001b[0mdevice\u001b[0m\u001b[0;34m)\u001b[0m\u001b[0;34m,\u001b[0m \u001b[0mmasked_dataP\u001b[0m\u001b[0;34m.\u001b[0m\u001b[0mto\u001b[0m\u001b[0;34m(\u001b[0m\u001b[0mdevice\u001b[0m\u001b[0;34m)\u001b[0m\u001b[0;34m,\u001b[0m \u001b[0mSetP\u001b[0m\u001b[0;34m.\u001b[0m\u001b[0mto\u001b[0m\u001b[0;34m(\u001b[0m\u001b[0mdevice\u001b[0m\u001b[0;34m)\u001b[0m\u001b[0;34m\u001b[0m\u001b[0;34m\u001b[0m\u001b[0m\n\u001b[0;32m---> 18\u001b[0;31m                 \u001b[0mpred\u001b[0m\u001b[0;34m,\u001b[0m \u001b[0mpredP\u001b[0m \u001b[0;34m=\u001b[0m \u001b[0mself\u001b[0m\u001b[0;34m.\u001b[0m\u001b[0mnet\u001b[0m\u001b[0;34m(\u001b[0m\u001b[0mmasked_data\u001b[0m\u001b[0;34m,\u001b[0m \u001b[0mSet\u001b[0m\u001b[0;34m)\u001b[0m\u001b[0;34m,\u001b[0m \u001b[0mself\u001b[0m\u001b[0;34m.\u001b[0m\u001b[0mnet\u001b[0m\u001b[0;34m(\u001b[0m\u001b[0mmasked_dataP\u001b[0m\u001b[0;34m,\u001b[0m \u001b[0mSetP\u001b[0m\u001b[0;34m)\u001b[0m\u001b[0;34m\u001b[0m\u001b[0;34m\u001b[0m\u001b[0m\n\u001b[0m\u001b[1;32m     19\u001b[0m                 \u001b[0mloss\u001b[0m\u001b[0;34m,\u001b[0m \u001b[0mlossP\u001b[0m \u001b[0;34m=\u001b[0m \u001b[0mcriterion\u001b[0m\u001b[0;34m(\u001b[0m\u001b[0mpred\u001b[0m\u001b[0;34m,\u001b[0m \u001b[0mtarget\u001b[0m\u001b[0;34m)\u001b[0m\u001b[0;34m,\u001b[0m \u001b[0mcriterion\u001b[0m\u001b[0;34m(\u001b[0m\u001b[0mpredP\u001b[0m\u001b[0;34m,\u001b[0m \u001b[0mtarget\u001b[0m\u001b[0;34m)\u001b[0m\u001b[0;34m\u001b[0m\u001b[0;34m\u001b[0m\u001b[0m\n\u001b[1;32m     20\u001b[0m \u001b[0;34m\u001b[0m\u001b[0m\n",
      "\u001b[0;32m~/.local/lib/python3.6/site-packages/torch/nn/modules/module.py\u001b[0m in \u001b[0;36m_call_impl\u001b[0;34m(self, *input, **kwargs)\u001b[0m\n\u001b[1;32m    720\u001b[0m             \u001b[0mresult\u001b[0m \u001b[0;34m=\u001b[0m \u001b[0mself\u001b[0m\u001b[0;34m.\u001b[0m\u001b[0m_slow_forward\u001b[0m\u001b[0;34m(\u001b[0m\u001b[0;34m*\u001b[0m\u001b[0minput\u001b[0m\u001b[0;34m,\u001b[0m \u001b[0;34m**\u001b[0m\u001b[0mkwargs\u001b[0m\u001b[0;34m)\u001b[0m\u001b[0;34m\u001b[0m\u001b[0;34m\u001b[0m\u001b[0m\n\u001b[1;32m    721\u001b[0m         \u001b[0;32melse\u001b[0m\u001b[0;34m:\u001b[0m\u001b[0;34m\u001b[0m\u001b[0;34m\u001b[0m\u001b[0m\n\u001b[0;32m--> 722\u001b[0;31m             \u001b[0mresult\u001b[0m \u001b[0;34m=\u001b[0m \u001b[0mself\u001b[0m\u001b[0;34m.\u001b[0m\u001b[0mforward\u001b[0m\u001b[0;34m(\u001b[0m\u001b[0;34m*\u001b[0m\u001b[0minput\u001b[0m\u001b[0;34m,\u001b[0m \u001b[0;34m**\u001b[0m\u001b[0mkwargs\u001b[0m\u001b[0;34m)\u001b[0m\u001b[0;34m\u001b[0m\u001b[0;34m\u001b[0m\u001b[0m\n\u001b[0m\u001b[1;32m    723\u001b[0m         for hook in itertools.chain(\n\u001b[1;32m    724\u001b[0m                 \u001b[0m_global_forward_hooks\u001b[0m\u001b[0;34m.\u001b[0m\u001b[0mvalues\u001b[0m\u001b[0;34m(\u001b[0m\u001b[0;34m)\u001b[0m\u001b[0;34m,\u001b[0m\u001b[0;34m\u001b[0m\u001b[0;34m\u001b[0m\u001b[0m\n",
      "\u001b[0;32m~/PycharmProjects/Proteomics/TCPA-Imputation/RecursiveNet.py\u001b[0m in \u001b[0;36mforward\u001b[0;34m(self, x, Mask)\u001b[0m\n\u001b[1;32m    122\u001b[0m         \u001b[0mcumulative_y\u001b[0m \u001b[0;34m=\u001b[0m \u001b[0;34m[\u001b[0m\u001b[0;34m]\u001b[0m\u001b[0;34m\u001b[0m\u001b[0;34m\u001b[0m\u001b[0m\n\u001b[1;32m    123\u001b[0m         \u001b[0;32mfor\u001b[0m \u001b[0mi\u001b[0m \u001b[0;32min\u001b[0m \u001b[0mrange\u001b[0m\u001b[0;34m(\u001b[0m\u001b[0mself\u001b[0m\u001b[0;34m.\u001b[0m\u001b[0mrepeats\u001b[0m\u001b[0;34m)\u001b[0m\u001b[0;34m:\u001b[0m\u001b[0;34m\u001b[0m\u001b[0;34m\u001b[0m\u001b[0m\n\u001b[0;32m--> 124\u001b[0;31m             \u001b[0my\u001b[0m\u001b[0;34m,\u001b[0m \u001b[0mmean_\u001b[0m\u001b[0;34m,\u001b[0m \u001b[0mlog_var_\u001b[0m \u001b[0;34m=\u001b[0m \u001b[0mself\u001b[0m\u001b[0;34m.\u001b[0m\u001b[0mrecursivenet\u001b[0m\u001b[0;34m(\u001b[0m\u001b[0my\u001b[0m\u001b[0;34m,\u001b[0m \u001b[0mMask\u001b[0m\u001b[0;34m)\u001b[0m\u001b[0;34m\u001b[0m\u001b[0;34m\u001b[0m\u001b[0m\n\u001b[0m\u001b[1;32m    125\u001b[0m             \u001b[0mcumulative_y\u001b[0m\u001b[0;34m.\u001b[0m\u001b[0mappend\u001b[0m\u001b[0;34m(\u001b[0m\u001b[0my\u001b[0m\u001b[0;34m)\u001b[0m\u001b[0;34m\u001b[0m\u001b[0;34m\u001b[0m\u001b[0m\n\u001b[1;32m    126\u001b[0m         \u001b[0mmeany\u001b[0m \u001b[0;34m=\u001b[0m \u001b[0mtc\u001b[0m\u001b[0;34m.\u001b[0m\u001b[0mstack\u001b[0m\u001b[0;34m(\u001b[0m\u001b[0mcumulative_y\u001b[0m\u001b[0;34m[\u001b[0m\u001b[0;36m3\u001b[0m\u001b[0;34m:\u001b[0m\u001b[0;34m]\u001b[0m\u001b[0;34m,\u001b[0m\u001b[0mdim\u001b[0m\u001b[0;34m=\u001b[0m\u001b[0;36m0\u001b[0m\u001b[0;34m)\u001b[0m\u001b[0;34m.\u001b[0m\u001b[0mmean\u001b[0m\u001b[0;34m(\u001b[0m\u001b[0mdim\u001b[0m\u001b[0;34m=\u001b[0m\u001b[0;36m0\u001b[0m\u001b[0;34m)\u001b[0m\u001b[0;34m\u001b[0m\u001b[0;34m\u001b[0m\u001b[0m\n",
      "\u001b[0;32m~/.local/lib/python3.6/site-packages/torch/nn/modules/module.py\u001b[0m in \u001b[0;36m_call_impl\u001b[0;34m(self, *input, **kwargs)\u001b[0m\n\u001b[1;32m    720\u001b[0m             \u001b[0mresult\u001b[0m \u001b[0;34m=\u001b[0m \u001b[0mself\u001b[0m\u001b[0;34m.\u001b[0m\u001b[0m_slow_forward\u001b[0m\u001b[0;34m(\u001b[0m\u001b[0;34m*\u001b[0m\u001b[0minput\u001b[0m\u001b[0;34m,\u001b[0m \u001b[0;34m**\u001b[0m\u001b[0mkwargs\u001b[0m\u001b[0;34m)\u001b[0m\u001b[0;34m\u001b[0m\u001b[0;34m\u001b[0m\u001b[0m\n\u001b[1;32m    721\u001b[0m         \u001b[0;32melse\u001b[0m\u001b[0;34m:\u001b[0m\u001b[0;34m\u001b[0m\u001b[0;34m\u001b[0m\u001b[0m\n\u001b[0;32m--> 722\u001b[0;31m             \u001b[0mresult\u001b[0m \u001b[0;34m=\u001b[0m \u001b[0mself\u001b[0m\u001b[0;34m.\u001b[0m\u001b[0mforward\u001b[0m\u001b[0;34m(\u001b[0m\u001b[0;34m*\u001b[0m\u001b[0minput\u001b[0m\u001b[0;34m,\u001b[0m \u001b[0;34m**\u001b[0m\u001b[0mkwargs\u001b[0m\u001b[0;34m)\u001b[0m\u001b[0;34m\u001b[0m\u001b[0;34m\u001b[0m\u001b[0m\n\u001b[0m\u001b[1;32m    723\u001b[0m         for hook in itertools.chain(\n\u001b[1;32m    724\u001b[0m                 \u001b[0m_global_forward_hooks\u001b[0m\u001b[0;34m.\u001b[0m\u001b[0mvalues\u001b[0m\u001b[0;34m(\u001b[0m\u001b[0;34m)\u001b[0m\u001b[0;34m,\u001b[0m\u001b[0;34m\u001b[0m\u001b[0;34m\u001b[0m\u001b[0m\n",
      "\u001b[0;32m~/PycharmProjects/Proteomics/TCPA-Imputation/RecursiveNet.py\u001b[0m in \u001b[0;36mforward\u001b[0;34m(self, x, Mask)\u001b[0m\n\u001b[1;32m    106\u001b[0m         \u001b[0mlog_var_\u001b[0m \u001b[0;34m=\u001b[0m \u001b[0mself\u001b[0m\u001b[0;34m.\u001b[0m\u001b[0mlogvar_layer\u001b[0m\u001b[0;34m(\u001b[0m\u001b[0my\u001b[0m\u001b[0;34m)\u001b[0m\u001b[0;34m\u001b[0m\u001b[0;34m\u001b[0m\u001b[0m\n\u001b[1;32m    107\u001b[0m         \u001b[0mlatent\u001b[0m \u001b[0;34m=\u001b[0m \u001b[0mself\u001b[0m\u001b[0;34m.\u001b[0m\u001b[0msample\u001b[0m\u001b[0;34m(\u001b[0m\u001b[0mmean_\u001b[0m\u001b[0;34m,\u001b[0m \u001b[0mlog_var_\u001b[0m\u001b[0;34m)\u001b[0m\u001b[0;34m\u001b[0m\u001b[0;34m\u001b[0m\u001b[0m\n\u001b[0;32m--> 108\u001b[0;31m         \u001b[0my\u001b[0m \u001b[0;34m=\u001b[0m \u001b[0mself\u001b[0m\u001b[0;34m.\u001b[0m\u001b[0mdec\u001b[0m\u001b[0;34m(\u001b[0m\u001b[0mlatent\u001b[0m\u001b[0;34m)\u001b[0m\u001b[0;34m\u001b[0m\u001b[0;34m\u001b[0m\u001b[0m\n\u001b[0m\u001b[1;32m    109\u001b[0m \u001b[0;34m\u001b[0m\u001b[0m\n\u001b[1;32m    110\u001b[0m         \u001b[0my\u001b[0m \u001b[0;34m=\u001b[0m \u001b[0mtc\u001b[0m\u001b[0;34m.\u001b[0m\u001b[0mwhere\u001b[0m\u001b[0;34m(\u001b[0m\u001b[0mMask\u001b[0m\u001b[0;34m==\u001b[0m\u001b[0;36m1\u001b[0m\u001b[0;34m,\u001b[0m \u001b[0mx\u001b[0m\u001b[0;34m,\u001b[0m \u001b[0my\u001b[0m\u001b[0;34m)\u001b[0m\u001b[0;34m\u001b[0m\u001b[0;34m\u001b[0m\u001b[0m\n",
      "\u001b[0;32m~/.local/lib/python3.6/site-packages/torch/nn/modules/module.py\u001b[0m in \u001b[0;36m_call_impl\u001b[0;34m(self, *input, **kwargs)\u001b[0m\n\u001b[1;32m    720\u001b[0m             \u001b[0mresult\u001b[0m \u001b[0;34m=\u001b[0m \u001b[0mself\u001b[0m\u001b[0;34m.\u001b[0m\u001b[0m_slow_forward\u001b[0m\u001b[0;34m(\u001b[0m\u001b[0;34m*\u001b[0m\u001b[0minput\u001b[0m\u001b[0;34m,\u001b[0m \u001b[0;34m**\u001b[0m\u001b[0mkwargs\u001b[0m\u001b[0;34m)\u001b[0m\u001b[0;34m\u001b[0m\u001b[0;34m\u001b[0m\u001b[0m\n\u001b[1;32m    721\u001b[0m         \u001b[0;32melse\u001b[0m\u001b[0;34m:\u001b[0m\u001b[0;34m\u001b[0m\u001b[0;34m\u001b[0m\u001b[0m\n\u001b[0;32m--> 722\u001b[0;31m             \u001b[0mresult\u001b[0m \u001b[0;34m=\u001b[0m \u001b[0mself\u001b[0m\u001b[0;34m.\u001b[0m\u001b[0mforward\u001b[0m\u001b[0;34m(\u001b[0m\u001b[0;34m*\u001b[0m\u001b[0minput\u001b[0m\u001b[0;34m,\u001b[0m \u001b[0;34m**\u001b[0m\u001b[0mkwargs\u001b[0m\u001b[0;34m)\u001b[0m\u001b[0;34m\u001b[0m\u001b[0;34m\u001b[0m\u001b[0m\n\u001b[0m\u001b[1;32m    723\u001b[0m         for hook in itertools.chain(\n\u001b[1;32m    724\u001b[0m                 \u001b[0m_global_forward_hooks\u001b[0m\u001b[0;34m.\u001b[0m\u001b[0mvalues\u001b[0m\u001b[0;34m(\u001b[0m\u001b[0;34m)\u001b[0m\u001b[0;34m,\u001b[0m\u001b[0;34m\u001b[0m\u001b[0;34m\u001b[0m\u001b[0m\n",
      "\u001b[0;32m~/.local/lib/python3.6/site-packages/torch/nn/modules/container.py\u001b[0m in \u001b[0;36mforward\u001b[0;34m(self, input)\u001b[0m\n\u001b[1;32m    115\u001b[0m     \u001b[0;32mdef\u001b[0m \u001b[0mforward\u001b[0m\u001b[0;34m(\u001b[0m\u001b[0mself\u001b[0m\u001b[0;34m,\u001b[0m \u001b[0minput\u001b[0m\u001b[0;34m)\u001b[0m\u001b[0;34m:\u001b[0m\u001b[0;34m\u001b[0m\u001b[0;34m\u001b[0m\u001b[0m\n\u001b[1;32m    116\u001b[0m         \u001b[0;32mfor\u001b[0m \u001b[0mmodule\u001b[0m \u001b[0;32min\u001b[0m \u001b[0mself\u001b[0m\u001b[0;34m:\u001b[0m\u001b[0;34m\u001b[0m\u001b[0;34m\u001b[0m\u001b[0m\n\u001b[0;32m--> 117\u001b[0;31m             \u001b[0minput\u001b[0m \u001b[0;34m=\u001b[0m \u001b[0mmodule\u001b[0m\u001b[0;34m(\u001b[0m\u001b[0minput\u001b[0m\u001b[0;34m)\u001b[0m\u001b[0;34m\u001b[0m\u001b[0;34m\u001b[0m\u001b[0m\n\u001b[0m\u001b[1;32m    118\u001b[0m         \u001b[0;32mreturn\u001b[0m \u001b[0minput\u001b[0m\u001b[0;34m\u001b[0m\u001b[0;34m\u001b[0m\u001b[0m\n\u001b[1;32m    119\u001b[0m \u001b[0;34m\u001b[0m\u001b[0m\n",
      "\u001b[0;32m~/.local/lib/python3.6/site-packages/torch/nn/modules/module.py\u001b[0m in \u001b[0;36m_call_impl\u001b[0;34m(self, *input, **kwargs)\u001b[0m\n\u001b[1;32m    720\u001b[0m             \u001b[0mresult\u001b[0m \u001b[0;34m=\u001b[0m \u001b[0mself\u001b[0m\u001b[0;34m.\u001b[0m\u001b[0m_slow_forward\u001b[0m\u001b[0;34m(\u001b[0m\u001b[0;34m*\u001b[0m\u001b[0minput\u001b[0m\u001b[0;34m,\u001b[0m \u001b[0;34m**\u001b[0m\u001b[0mkwargs\u001b[0m\u001b[0;34m)\u001b[0m\u001b[0;34m\u001b[0m\u001b[0;34m\u001b[0m\u001b[0m\n\u001b[1;32m    721\u001b[0m         \u001b[0;32melse\u001b[0m\u001b[0;34m:\u001b[0m\u001b[0;34m\u001b[0m\u001b[0;34m\u001b[0m\u001b[0m\n\u001b[0;32m--> 722\u001b[0;31m             \u001b[0mresult\u001b[0m \u001b[0;34m=\u001b[0m \u001b[0mself\u001b[0m\u001b[0;34m.\u001b[0m\u001b[0mforward\u001b[0m\u001b[0;34m(\u001b[0m\u001b[0;34m*\u001b[0m\u001b[0minput\u001b[0m\u001b[0;34m,\u001b[0m \u001b[0;34m**\u001b[0m\u001b[0mkwargs\u001b[0m\u001b[0;34m)\u001b[0m\u001b[0;34m\u001b[0m\u001b[0;34m\u001b[0m\u001b[0m\n\u001b[0m\u001b[1;32m    723\u001b[0m         for hook in itertools.chain(\n\u001b[1;32m    724\u001b[0m                 \u001b[0m_global_forward_hooks\u001b[0m\u001b[0;34m.\u001b[0m\u001b[0mvalues\u001b[0m\u001b[0;34m(\u001b[0m\u001b[0;34m)\u001b[0m\u001b[0;34m,\u001b[0m\u001b[0;34m\u001b[0m\u001b[0;34m\u001b[0m\u001b[0m\n",
      "\u001b[0;32m~/PycharmProjects/Proteomics/TCPA-Imputation/RecursiveNet.py\u001b[0m in \u001b[0;36mforward\u001b[0;34m(self, x)\u001b[0m\n\u001b[1;32m     75\u001b[0m         \u001b[0mresidual\u001b[0m \u001b[0;34m=\u001b[0m \u001b[0mx\u001b[0m\u001b[0;34m.\u001b[0m\u001b[0mclone\u001b[0m\u001b[0;34m(\u001b[0m\u001b[0;34m)\u001b[0m \u001b[0;32mif\u001b[0m \u001b[0mself\u001b[0m\u001b[0;34m.\u001b[0m\u001b[0mact_bool\u001b[0m \u001b[0;32melse\u001b[0m \u001b[0mtc\u001b[0m\u001b[0;34m.\u001b[0m\u001b[0mzeros_like\u001b[0m\u001b[0;34m(\u001b[0m\u001b[0mx\u001b[0m\u001b[0;34m)\u001b[0m\u001b[0;34m\u001b[0m\u001b[0;34m\u001b[0m\u001b[0m\n\u001b[1;32m     76\u001b[0m         \u001b[0;31m#print(residual.device, self.alpha.device, next(self.layers.parameters()).device)\u001b[0m\u001b[0;34m\u001b[0m\u001b[0;34m\u001b[0m\u001b[0;34m\u001b[0m\u001b[0m\n\u001b[0;32m---> 77\u001b[0;31m         \u001b[0;32mreturn\u001b[0m \u001b[0mresidual\u001b[0m\u001b[0;34m*\u001b[0m\u001b[0mself\u001b[0m\u001b[0;34m.\u001b[0m\u001b[0malpha\u001b[0m \u001b[0;34m+\u001b[0m \u001b[0mself\u001b[0m\u001b[0;34m.\u001b[0m\u001b[0mlayers\u001b[0m\u001b[0;34m(\u001b[0m\u001b[0mx\u001b[0m\u001b[0;34m)\u001b[0m\u001b[0;34m\u001b[0m\u001b[0;34m\u001b[0m\u001b[0m\n\u001b[0m\u001b[1;32m     78\u001b[0m \u001b[0;34m\u001b[0m\u001b[0m\n\u001b[1;32m     79\u001b[0m \u001b[0;32mclass\u001b[0m \u001b[0mRecursiveNet\u001b[0m\u001b[0;34m(\u001b[0m\u001b[0mnn\u001b[0m\u001b[0;34m.\u001b[0m\u001b[0mModule\u001b[0m\u001b[0;34m)\u001b[0m\u001b[0;34m:\u001b[0m\u001b[0;34m\u001b[0m\u001b[0;34m\u001b[0m\u001b[0m\n",
      "\u001b[0;32m~/.local/lib/python3.6/site-packages/torch/nn/modules/module.py\u001b[0m in \u001b[0;36m_call_impl\u001b[0;34m(self, *input, **kwargs)\u001b[0m\n\u001b[1;32m    720\u001b[0m             \u001b[0mresult\u001b[0m \u001b[0;34m=\u001b[0m \u001b[0mself\u001b[0m\u001b[0;34m.\u001b[0m\u001b[0m_slow_forward\u001b[0m\u001b[0;34m(\u001b[0m\u001b[0;34m*\u001b[0m\u001b[0minput\u001b[0m\u001b[0;34m,\u001b[0m \u001b[0;34m**\u001b[0m\u001b[0mkwargs\u001b[0m\u001b[0;34m)\u001b[0m\u001b[0;34m\u001b[0m\u001b[0;34m\u001b[0m\u001b[0m\n\u001b[1;32m    721\u001b[0m         \u001b[0;32melse\u001b[0m\u001b[0;34m:\u001b[0m\u001b[0;34m\u001b[0m\u001b[0;34m\u001b[0m\u001b[0m\n\u001b[0;32m--> 722\u001b[0;31m             \u001b[0mresult\u001b[0m \u001b[0;34m=\u001b[0m \u001b[0mself\u001b[0m\u001b[0;34m.\u001b[0m\u001b[0mforward\u001b[0m\u001b[0;34m(\u001b[0m\u001b[0;34m*\u001b[0m\u001b[0minput\u001b[0m\u001b[0;34m,\u001b[0m \u001b[0;34m**\u001b[0m\u001b[0mkwargs\u001b[0m\u001b[0;34m)\u001b[0m\u001b[0;34m\u001b[0m\u001b[0;34m\u001b[0m\u001b[0m\n\u001b[0m\u001b[1;32m    723\u001b[0m         for hook in itertools.chain(\n\u001b[1;32m    724\u001b[0m                 \u001b[0m_global_forward_hooks\u001b[0m\u001b[0;34m.\u001b[0m\u001b[0mvalues\u001b[0m\u001b[0;34m(\u001b[0m\u001b[0;34m)\u001b[0m\u001b[0;34m,\u001b[0m\u001b[0;34m\u001b[0m\u001b[0;34m\u001b[0m\u001b[0m\n",
      "\u001b[0;32m~/.local/lib/python3.6/site-packages/torch/nn/modules/container.py\u001b[0m in \u001b[0;36mforward\u001b[0;34m(self, input)\u001b[0m\n\u001b[1;32m    115\u001b[0m     \u001b[0;32mdef\u001b[0m \u001b[0mforward\u001b[0m\u001b[0;34m(\u001b[0m\u001b[0mself\u001b[0m\u001b[0;34m,\u001b[0m \u001b[0minput\u001b[0m\u001b[0;34m)\u001b[0m\u001b[0;34m:\u001b[0m\u001b[0;34m\u001b[0m\u001b[0;34m\u001b[0m\u001b[0m\n\u001b[1;32m    116\u001b[0m         \u001b[0;32mfor\u001b[0m \u001b[0mmodule\u001b[0m \u001b[0;32min\u001b[0m \u001b[0mself\u001b[0m\u001b[0;34m:\u001b[0m\u001b[0;34m\u001b[0m\u001b[0;34m\u001b[0m\u001b[0m\n\u001b[0;32m--> 117\u001b[0;31m             \u001b[0minput\u001b[0m \u001b[0;34m=\u001b[0m \u001b[0mmodule\u001b[0m\u001b[0;34m(\u001b[0m\u001b[0minput\u001b[0m\u001b[0;34m)\u001b[0m\u001b[0;34m\u001b[0m\u001b[0;34m\u001b[0m\u001b[0m\n\u001b[0m\u001b[1;32m    118\u001b[0m         \u001b[0;32mreturn\u001b[0m \u001b[0minput\u001b[0m\u001b[0;34m\u001b[0m\u001b[0;34m\u001b[0m\u001b[0m\n\u001b[1;32m    119\u001b[0m \u001b[0;34m\u001b[0m\u001b[0m\n",
      "\u001b[0;32m~/.local/lib/python3.6/site-packages/torch/nn/modules/module.py\u001b[0m in \u001b[0;36m_call_impl\u001b[0;34m(self, *input, **kwargs)\u001b[0m\n\u001b[1;32m    720\u001b[0m             \u001b[0mresult\u001b[0m \u001b[0;34m=\u001b[0m \u001b[0mself\u001b[0m\u001b[0;34m.\u001b[0m\u001b[0m_slow_forward\u001b[0m\u001b[0;34m(\u001b[0m\u001b[0;34m*\u001b[0m\u001b[0minput\u001b[0m\u001b[0;34m,\u001b[0m \u001b[0;34m**\u001b[0m\u001b[0mkwargs\u001b[0m\u001b[0;34m)\u001b[0m\u001b[0;34m\u001b[0m\u001b[0;34m\u001b[0m\u001b[0m\n\u001b[1;32m    721\u001b[0m         \u001b[0;32melse\u001b[0m\u001b[0;34m:\u001b[0m\u001b[0;34m\u001b[0m\u001b[0;34m\u001b[0m\u001b[0m\n\u001b[0;32m--> 722\u001b[0;31m             \u001b[0mresult\u001b[0m \u001b[0;34m=\u001b[0m \u001b[0mself\u001b[0m\u001b[0;34m.\u001b[0m\u001b[0mforward\u001b[0m\u001b[0;34m(\u001b[0m\u001b[0;34m*\u001b[0m\u001b[0minput\u001b[0m\u001b[0;34m,\u001b[0m \u001b[0;34m**\u001b[0m\u001b[0mkwargs\u001b[0m\u001b[0;34m)\u001b[0m\u001b[0;34m\u001b[0m\u001b[0;34m\u001b[0m\u001b[0m\n\u001b[0m\u001b[1;32m    723\u001b[0m         for hook in itertools.chain(\n\u001b[1;32m    724\u001b[0m                 \u001b[0m_global_forward_hooks\u001b[0m\u001b[0;34m.\u001b[0m\u001b[0mvalues\u001b[0m\u001b[0;34m(\u001b[0m\u001b[0;34m)\u001b[0m\u001b[0;34m,\u001b[0m\u001b[0;34m\u001b[0m\u001b[0;34m\u001b[0m\u001b[0m\n",
      "\u001b[0;32m~/.local/lib/python3.6/site-packages/torch/nn/modules/container.py\u001b[0m in \u001b[0;36mforward\u001b[0;34m(self, input)\u001b[0m\n\u001b[1;32m    115\u001b[0m     \u001b[0;32mdef\u001b[0m \u001b[0mforward\u001b[0m\u001b[0;34m(\u001b[0m\u001b[0mself\u001b[0m\u001b[0;34m,\u001b[0m \u001b[0minput\u001b[0m\u001b[0;34m)\u001b[0m\u001b[0;34m:\u001b[0m\u001b[0;34m\u001b[0m\u001b[0;34m\u001b[0m\u001b[0m\n\u001b[1;32m    116\u001b[0m         \u001b[0;32mfor\u001b[0m \u001b[0mmodule\u001b[0m \u001b[0;32min\u001b[0m \u001b[0mself\u001b[0m\u001b[0;34m:\u001b[0m\u001b[0;34m\u001b[0m\u001b[0;34m\u001b[0m\u001b[0m\n\u001b[0;32m--> 117\u001b[0;31m             \u001b[0minput\u001b[0m \u001b[0;34m=\u001b[0m \u001b[0mmodule\u001b[0m\u001b[0;34m(\u001b[0m\u001b[0minput\u001b[0m\u001b[0;34m)\u001b[0m\u001b[0;34m\u001b[0m\u001b[0;34m\u001b[0m\u001b[0m\n\u001b[0m\u001b[1;32m    118\u001b[0m         \u001b[0;32mreturn\u001b[0m \u001b[0minput\u001b[0m\u001b[0;34m\u001b[0m\u001b[0;34m\u001b[0m\u001b[0m\n\u001b[1;32m    119\u001b[0m \u001b[0;34m\u001b[0m\u001b[0m\n",
      "\u001b[0;32m~/.local/lib/python3.6/site-packages/torch/nn/modules/module.py\u001b[0m in \u001b[0;36m_call_impl\u001b[0;34m(self, *input, **kwargs)\u001b[0m\n\u001b[1;32m    720\u001b[0m             \u001b[0mresult\u001b[0m \u001b[0;34m=\u001b[0m \u001b[0mself\u001b[0m\u001b[0;34m.\u001b[0m\u001b[0m_slow_forward\u001b[0m\u001b[0;34m(\u001b[0m\u001b[0;34m*\u001b[0m\u001b[0minput\u001b[0m\u001b[0;34m,\u001b[0m \u001b[0;34m**\u001b[0m\u001b[0mkwargs\u001b[0m\u001b[0;34m)\u001b[0m\u001b[0;34m\u001b[0m\u001b[0;34m\u001b[0m\u001b[0m\n\u001b[1;32m    721\u001b[0m         \u001b[0;32melse\u001b[0m\u001b[0;34m:\u001b[0m\u001b[0;34m\u001b[0m\u001b[0;34m\u001b[0m\u001b[0m\n\u001b[0;32m--> 722\u001b[0;31m             \u001b[0mresult\u001b[0m \u001b[0;34m=\u001b[0m \u001b[0mself\u001b[0m\u001b[0;34m.\u001b[0m\u001b[0mforward\u001b[0m\u001b[0;34m(\u001b[0m\u001b[0;34m*\u001b[0m\u001b[0minput\u001b[0m\u001b[0;34m,\u001b[0m \u001b[0;34m**\u001b[0m\u001b[0mkwargs\u001b[0m\u001b[0;34m)\u001b[0m\u001b[0;34m\u001b[0m\u001b[0;34m\u001b[0m\u001b[0m\n\u001b[0m\u001b[1;32m    723\u001b[0m         for hook in itertools.chain(\n\u001b[1;32m    724\u001b[0m                 \u001b[0m_global_forward_hooks\u001b[0m\u001b[0;34m.\u001b[0m\u001b[0mvalues\u001b[0m\u001b[0;34m(\u001b[0m\u001b[0;34m)\u001b[0m\u001b[0;34m,\u001b[0m\u001b[0;34m\u001b[0m\u001b[0;34m\u001b[0m\u001b[0m\n",
      "\u001b[0;32m~/.local/lib/python3.6/site-packages/torch/nn/modules/batchnorm.py\u001b[0m in \u001b[0;36mforward\u001b[0;34m(self, input)\u001b[0m\n\u001b[1;32m    134\u001b[0m             \u001b[0mself\u001b[0m\u001b[0;34m.\u001b[0m\u001b[0mrunning_mean\u001b[0m \u001b[0;32mif\u001b[0m \u001b[0;32mnot\u001b[0m \u001b[0mself\u001b[0m\u001b[0;34m.\u001b[0m\u001b[0mtraining\u001b[0m \u001b[0;32mor\u001b[0m \u001b[0mself\u001b[0m\u001b[0;34m.\u001b[0m\u001b[0mtrack_running_stats\u001b[0m \u001b[0;32melse\u001b[0m \u001b[0;32mNone\u001b[0m\u001b[0;34m,\u001b[0m\u001b[0;34m\u001b[0m\u001b[0;34m\u001b[0m\u001b[0m\n\u001b[1;32m    135\u001b[0m             \u001b[0mself\u001b[0m\u001b[0;34m.\u001b[0m\u001b[0mrunning_var\u001b[0m \u001b[0;32mif\u001b[0m \u001b[0;32mnot\u001b[0m \u001b[0mself\u001b[0m\u001b[0;34m.\u001b[0m\u001b[0mtraining\u001b[0m \u001b[0;32mor\u001b[0m \u001b[0mself\u001b[0m\u001b[0;34m.\u001b[0m\u001b[0mtrack_running_stats\u001b[0m \u001b[0;32melse\u001b[0m \u001b[0;32mNone\u001b[0m\u001b[0;34m,\u001b[0m\u001b[0;34m\u001b[0m\u001b[0;34m\u001b[0m\u001b[0m\n\u001b[0;32m--> 136\u001b[0;31m             self.weight, self.bias, bn_training, exponential_average_factor, self.eps)\n\u001b[0m\u001b[1;32m    137\u001b[0m \u001b[0;34m\u001b[0m\u001b[0m\n\u001b[1;32m    138\u001b[0m \u001b[0;34m\u001b[0m\u001b[0m\n",
      "\u001b[0;32m~/.local/lib/python3.6/site-packages/torch/nn/functional.py\u001b[0m in \u001b[0;36mbatch_norm\u001b[0;34m(input, running_mean, running_var, weight, bias, training, momentum, eps)\u001b[0m\n\u001b[1;32m   2014\u001b[0m     return torch.batch_norm(\n\u001b[1;32m   2015\u001b[0m         \u001b[0minput\u001b[0m\u001b[0;34m,\u001b[0m \u001b[0mweight\u001b[0m\u001b[0;34m,\u001b[0m \u001b[0mbias\u001b[0m\u001b[0;34m,\u001b[0m \u001b[0mrunning_mean\u001b[0m\u001b[0;34m,\u001b[0m \u001b[0mrunning_var\u001b[0m\u001b[0;34m,\u001b[0m\u001b[0;34m\u001b[0m\u001b[0;34m\u001b[0m\u001b[0m\n\u001b[0;32m-> 2016\u001b[0;31m         \u001b[0mtraining\u001b[0m\u001b[0;34m,\u001b[0m \u001b[0mmomentum\u001b[0m\u001b[0;34m,\u001b[0m \u001b[0meps\u001b[0m\u001b[0;34m,\u001b[0m \u001b[0mtorch\u001b[0m\u001b[0;34m.\u001b[0m\u001b[0mbackends\u001b[0m\u001b[0;34m.\u001b[0m\u001b[0mcudnn\u001b[0m\u001b[0;34m.\u001b[0m\u001b[0menabled\u001b[0m\u001b[0;34m\u001b[0m\u001b[0;34m\u001b[0m\u001b[0m\n\u001b[0m\u001b[1;32m   2017\u001b[0m     )\n\u001b[1;32m   2018\u001b[0m \u001b[0;34m\u001b[0m\u001b[0m\n",
      "\u001b[0;31mKeyboardInterrupt\u001b[0m: "
     ]
    }
   ],
   "source": []
  },
  {
   "cell_type": "code",
   "execution_count": 1,
   "metadata": {},
   "outputs": [
    {
     "data": {
      "text/plain": [
       "6"
      ]
     },
     "execution_count": 1,
     "metadata": {},
     "output_type": "execute_result"
    }
   ],
   "source": [
    "a = [1,2,3,4,4,5,6]\n",
    "max(a)"
   ]
  },
  {
   "cell_type": "code",
   "execution_count": 7,
   "metadata": {},
   "outputs": [
    {
     "ename": "NameError",
     "evalue": "name 'net' is not defined",
     "output_type": "error",
     "traceback": [
      "\u001b[0;31m---------------------------------------------------------------------------\u001b[0m",
      "\u001b[0;31mNameError\u001b[0m                                 Traceback (most recent call last)",
      "\u001b[0;32m<ipython-input-7-d3e61c39d23b>\u001b[0m in \u001b[0;36m<module>\u001b[0;34m\u001b[0m\n\u001b[0;32m----> 1\u001b[0;31m \u001b[0mnet\u001b[0m\u001b[0;34m\u001b[0m\u001b[0;34m\u001b[0m\u001b[0m\n\u001b[0m",
      "\u001b[0;31mNameError\u001b[0m: name 'net' is not defined"
     ]
    }
   ],
   "source": []
  },
  {
   "cell_type": "code",
   "execution_count": 17,
   "metadata": {},
   "outputs": [
    {
     "data": {
      "text/plain": [
       "device(type='cpu')"
      ]
     },
     "execution_count": 17,
     "metadata": {},
     "output_type": "execute_result"
    }
   ],
   "source": [
    "next(train_env.net.parameters()).device"
   ]
  },
  {
   "cell_type": "code",
   "execution_count": null,
   "metadata": {},
   "outputs": [],
   "source": []
  }
 ],
 "metadata": {
  "kernelspec": {
   "display_name": "Python 3",
   "language": "python",
   "name": "python3"
  },
  "language_info": {
   "codemirror_mode": {
    "name": "ipython",
    "version": 3
   },
   "file_extension": ".py",
   "mimetype": "text/x-python",
   "name": "python",
   "nbconvert_exporter": "python",
   "pygments_lexer": "ipython3",
   "version": "3.6.9"
  }
 },
 "nbformat": 4,
 "nbformat_minor": 2
}
